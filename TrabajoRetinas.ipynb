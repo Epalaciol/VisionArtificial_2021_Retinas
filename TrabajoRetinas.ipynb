{
  "nbformat": 4,
  "nbformat_minor": 0,
  "metadata": {
    "colab": {
      "name": "TrabajoRetinas.ipynb",
      "provenance": [],
      "authorship_tag": "ABX9TyMjOQkXQAGWjKlKFi4xWra0",
      "include_colab_link": true
    },
    "kernelspec": {
      "name": "python3",
      "display_name": "Python 3"
    },
    "language_info": {
      "name": "python"
    }
  },
  "cells": [
    {
      "cell_type": "markdown",
      "metadata": {
        "id": "view-in-github",
        "colab_type": "text"
      },
      "source": [
        "<a href=\"https://colab.research.google.com/github/Epalaciol/VisionArtificial_2021_Retinas/blob/master/TrabajoRetinas.ipynb\" target=\"_parent\"><img src=\"https://colab.research.google.com/assets/colab-badge.svg\" alt=\"Open In Colab\"/></a>"
      ]
    },
    {
      "cell_type": "markdown",
      "metadata": {
        "id": "Xdqcyr-7ZeV6"
      },
      "source": [
        "# Trabajo Vision Artificial Retinas\n",
        "\n",
        "##Integrantes: \n",
        "- Alejandra Betancur Palacio\n",
        "- Juan Camilo  Molina Roncancio\n",
        "- Esteban Palacio Londoño\n",
        "- Valentina Tamayo Guarin \n",
        "- Mateo Valencia Diaz\n",
        "- Angie Tatiana Solano Rodriguez\n"
      ]
    },
    {
      "cell_type": "markdown",
      "metadata": {
        "id": "t2sRDYpKauT0"
      },
      "source": [
        "## Introducción\n",
        "\n",
        "[Inserte aqui la intro]\n"
      ]
    },
    {
      "cell_type": "markdown",
      "metadata": {
        "id": "dPdPyTmTZlvA"
      },
      "source": [
        "## Preprocesamiento de imagenes"
      ]
    },
    {
      "cell_type": "code",
      "metadata": {
        "id": "JWNgiU16ZZao"
      },
      "source": [
        ""
      ],
      "execution_count": null,
      "outputs": []
    },
    {
      "cell_type": "markdown",
      "metadata": {
        "id": "KjhW-x3oZxq1"
      },
      "source": [
        "#Segmentación "
      ]
    },
    {
      "cell_type": "markdown",
      "metadata": {
        "id": "eiChcaD2assd"
      },
      "source": [
        ""
      ]
    },
    {
      "cell_type": "code",
      "metadata": {
        "id": "a37XBVUTa2QY"
      },
      "source": [
        ""
      ],
      "execution_count": null,
      "outputs": []
    }
  ]
}