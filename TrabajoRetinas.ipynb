{
  "nbformat": 4,
  "nbformat_minor": 0,
  "metadata": {
    "colab": {
      "name": "TrabajoRetinas.ipynb",
      "provenance": [],
      "authorship_tag": "ABX9TyMjOQkXQAGWjKlKFi4xWra0",
      "include_colab_link": true
    },
    "kernelspec": {
      "name": "python395jvsc74a57bd09c501502ceb14c7b3069cf5ad58c52b78bcef21e9f836e5edb6176fe2f883698",
      "display_name": "Python 3.9.5 64-bit (windows store)"
    },
    "language_info": {
      "name": "python",
      "version": "3.9.5"
    },
    "metadata": {
      "interpreter": {
        "hash": "9c501502ceb14c7b3069cf5ad58c52b78bcef21e9f836e5edb6176fe2f883698"
      }
    }
  },
  "cells": [
    {
      "cell_type": "markdown",
      "metadata": {
        "id": "view-in-github",
        "colab_type": "text"
      },
      "source": [
        "<a href=\"https://colab.research.google.com/github/Epalaciol/VisionArtificial_2021_Retinas/blob/master/TrabajoRetinas.ipynb\" target=\"_parent\"><img src=\"https://colab.research.google.com/assets/colab-badge.svg\" alt=\"Open In Colab\"/></a>"
      ]
    },
    {
      "cell_type": "markdown",
      "metadata": {
        "id": "Xdqcyr-7ZeV6"
      },
      "source": [
        "# Trabajo Vision Artificial Retinas\n",
        "\n",
        "##Integrantes: \n",
        "- Alejandra Betancur Palacio\n",
        "- Juan Camilo  Molina Roncancio\n",
        "- Esteban Palacio Londoño\n",
        "- Valentina Tamayo Guarin \n",
        "- Mateo Valencia Diaz\n",
        "- Angie Tatiana Solano Rodriguez\n"
      ]
    },
    {
      "cell_type": "markdown",
      "metadata": {
        "id": "t2sRDYpKauT0"
      },
      "source": [
        "## Introducción\n",
        "\n",
        "[Inserte aqui la intro]\n"
      ]
    },
    {
      "cell_type": "markdown",
      "metadata": {
        "id": "dPdPyTmTZlvA"
      },
      "source": [
        "## Preprocesamiento de imagenes"
      ]
    },
    {
      "cell_type": "code",
      "metadata": {
        "id": "JWNgiU16ZZao"
      },
      "source": [
        "import cv2\n",
        "import matplotlib.pyplot as plt\n",
        "import numpy as np\n",
        "import math\n",
        "from skimage import io, color"
      ],
      "execution_count": 1,
      "outputs": [
        {
          "output_type": "error",
          "ename": "ModuleNotFoundError",
          "evalue": "No module named 'cv2'",
          "traceback": [
            "\u001b[1;31m---------------------------------------------------------------------------\u001b[0m",
            "\u001b[1;31mModuleNotFoundError\u001b[0m                       Traceback (most recent call last)",
            "\u001b[1;32m<ipython-input-1-ab57e7039dee>\u001b[0m in \u001b[0;36m<module>\u001b[1;34m\u001b[0m\n\u001b[1;32m----> 1\u001b[1;33m \u001b[1;32mimport\u001b[0m \u001b[0mcv2\u001b[0m\u001b[1;33m\u001b[0m\u001b[1;33m\u001b[0m\u001b[0m\n\u001b[0m\u001b[0;32m      2\u001b[0m \u001b[1;32mimport\u001b[0m \u001b[0mmatplotlib\u001b[0m\u001b[1;33m.\u001b[0m\u001b[0mpyplot\u001b[0m \u001b[1;32mas\u001b[0m \u001b[0mplt\u001b[0m\u001b[1;33m\u001b[0m\u001b[1;33m\u001b[0m\u001b[0m\n\u001b[0;32m      3\u001b[0m \u001b[1;32mimport\u001b[0m \u001b[0mnumpy\u001b[0m \u001b[1;32mas\u001b[0m \u001b[0mnp\u001b[0m\u001b[1;33m\u001b[0m\u001b[1;33m\u001b[0m\u001b[0m\n\u001b[0;32m      4\u001b[0m \u001b[1;32mimport\u001b[0m \u001b[0mmath\u001b[0m\u001b[1;33m\u001b[0m\u001b[1;33m\u001b[0m\u001b[0m\n\u001b[0;32m      5\u001b[0m \u001b[1;32mfrom\u001b[0m \u001b[0mskimage\u001b[0m \u001b[1;32mimport\u001b[0m \u001b[0mio\u001b[0m\u001b[1;33m,\u001b[0m \u001b[0mcolor\u001b[0m\u001b[1;33m\u001b[0m\u001b[1;33m\u001b[0m\u001b[0m\n",
            "\u001b[1;31mModuleNotFoundError\u001b[0m: No module named 'cv2'"
          ]
        }
      ]
    },
    {
      "cell_type": "code",
      "execution_count": null,
      "metadata": {},
      "outputs": [],
      "source": [
        "imagenUno = cv2.imread(\"images/training/images/21_training.tif\", cv2.IMREAD_GRAYSCALE)\n",
        "plt.imshow(imagenUno, cmap= \"gray\")"
      ]
    },
    {
      "cell_type": "markdown",
      "metadata": {
        "id": "KjhW-x3oZxq1"
      },
      "source": [
        "#Segmentación "
      ]
    },
    {
      "cell_type": "markdown",
      "metadata": {
        "id": "eiChcaD2assd"
      },
      "source": []
    },
    {
      "cell_type": "code",
      "metadata": {
        "id": "a37XBVUTa2QY"
      },
      "source": [],
      "execution_count": null,
      "outputs": []
    }
  ]
}